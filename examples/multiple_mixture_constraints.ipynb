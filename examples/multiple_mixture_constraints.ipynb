{
 "cells": [
  {
   "cell_type": "code",
   "execution_count": 1,
   "metadata": {},
   "outputs": [],
   "source": [
    "import opti\n",
    "from doe import find_local_max_ipopt\n",
    "import numpy as np\n",
    "\n",
    "# 2 mixture constraints\n",
    "problem = opti.Problem(\n",
    "    inputs=[opti.Continuous(f\"x{i+1}\", [0, 1]) for i in range(12)]\n",
    "    + [opti.Continuous(f\"p{i+1}\", [-1, 1]) for i in range(3)],\n",
    "    outputs=[opti.Continuous(\"y\")],\n",
    "    constraints=[\n",
    "        opti.LinearEquality(names=[f\"x{i+1}\" for i in range(6)], rhs=1),\n",
    "        opti.LinearEquality(names=[f\"x{i+1}\" for i in range(6, 12)], rhs=1),\n",
    "    ],\n",
    ")\n",
    "\n",
    "res = find_local_max_ipopt(\n",
    "    problem=problem,\n",
    "    model_type=\"fully-quadratic\",\n",
    "    n_experiments=125,\n",
    "    ipopt_options={\"maxiter\":1000},\n",
    ")\n"
   ]
  },
  {
   "cell_type": "code",
   "execution_count": null,
   "metadata": {},
   "outputs": [],
   "source": [
    "np.round(res,2)"
   ]
  },
  {
   "cell_type": "code",
   "execution_count": null,
   "metadata": {},
   "outputs": [],
   "source": [
    "# 2 mixture constraints + linear inequalities\n",
    "problem = opti.Problem(\n",
    "    inputs=[opti.Continuous(f\"x{i+1}\", [0, 1]) for i in range(12)]\n",
    "    + [opti.Continuous(f\"p{i+1}\", [-1, 1]) for i in range(3)],\n",
    "    outputs=[opti.Continuous(\"y\")],\n",
    "    constraints=[\n",
    "        opti.LinearEquality(names=[f\"x{i+1}\" for i in range(6)], rhs=1),\n",
    "        opti.LinearEquality(names=[f\"x{i+1}\" for i in range(6, 12)], rhs=1),\n",
    "        opti.LinearInequality(names=[\"x1\", \"x2\", \"x3\"], lhs=-1, rhs=0.7),\n",
    "        opti.LinearInequality(names=[\"x10\", \"x11\", \"x12\"], rhs=0.8),\n",
    "        opti.LinearInequality(names=[\"x10\", \"x11\", \"x12\"], lhs=-1, rhs=0.2),\n",
    "        opti.LinearInequality(names=[\"x5\", \"x6\"], lhs=[-1, 0.5], rhs=0),\n",
    "        opti.LinearInequality(names=[\"x5\", \"x6\"], lhs=[-1, 2], rhs=0),\n",
    "    ],\n",
    ")\n",
    "\n",
    "res  =find_local_max_ipopt(\n",
    "    problem=problem,\n",
    "    model_type=\"fully-quadratic\",\n",
    "    n_experiments=125,\n",
    "    ipopt_options={\"maxiter\":1000},\n",
    ")"
   ]
  },
  {
   "cell_type": "code",
   "execution_count": null,
   "metadata": {},
   "outputs": [],
   "source": [
    "np.round(res,2)"
   ]
  }
 ],
 "metadata": {
  "interpreter": {
   "hash": "17e9060c569e10872c46def3c560b6b192798862017d31f5d4aefba9cd3a76fa"
  },
  "kernelspec": {
   "display_name": "Python 3.8.0 ('testenv')",
   "language": "python",
   "name": "python3"
  },
  "language_info": {
   "codemirror_mode": {
    "name": "ipython",
    "version": 3
   },
   "file_extension": ".py",
   "mimetype": "text/x-python",
   "name": "python",
   "nbconvert_exporter": "python",
   "pygments_lexer": "ipython3",
   "version": "3.8.0"
  },
  "orig_nbformat": 4
 },
 "nbformat": 4,
 "nbformat_minor": 2
}
