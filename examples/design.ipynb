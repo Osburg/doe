{
 "cells": [
  {
   "cell_type": "markdown",
   "metadata": {},
   "source": [
    "# Design\n",
    "\n",
    "Given a model $y = X\\beta + \\epsilon$ where $X$ are the inputs, $\\beta$ the model coefficients and $\\epsilon \\sim \\mathcal{N}(0, \\sigma)$ some additive iid Gaussian noise.\n",
    "The maximum likelihood estimate for the model coefficients is $\\hat{\\beta} = (X^T X)^{-1} X^T y$ and the covariance matrix $V = Var(\\hat{\\beta}) = \\sigma^2 (X^T X)^{-1}$.\n",
    "Note, $X$ may be augmented with a constant column to model an intercept, as well as arbitrary functions of $x$ such as monomials in a polyomial feature expansion.\n",
    "\n",
    "The design goal is to find a set of experiments $X$ that optimize some measure of $V$.\n",
    "With the D-criterion $\\det(V) = \\sigma^2\\det((X^T X)^{-1})$ the aim is to minimize the volume of the covariance ellipsoid.\n",
    "Equivalently, we can maximize its inverse $\\det(X^T X)$.\n",
    "\n",
    "In the presence of linear equality constraints, some columns of $X$ are linearly dependent. \n",
    "Hence the $X^T X$ doesn't have full rank and its determinant is 0.\n",
    "Numerically, we always a get non-zero result but this is dominated by numerical noise.\n",
    "There are multiple options to handle this:\n",
    "* Reduce the problem (only works for all linear constraints).\n",
    "* Drop the linearly dependent columns from the model matrix (difficult to do this algorithmically).\n",
    "* Calculate the eigenvalues of $V$ and compute the determinat as the product of non-zero eigenvalues.\n",
    "* Optimize the determinant of a regularized matrix $\\det(X^TX + \\delta \\mathbb{I})$ with a small $\\delta$, which has approximately the same minimizer."
   ]
  },
  {
   "cell_type": "code",
   "execution_count": 5,
   "metadata": {},
   "outputs": [],
   "source": [
    "from timeit import timeit\n",
    "\n",
    "import matplotlib.pyplot as plt\n",
    "import numpy as np\n",
    "import opti\n",
    "\n",
    "from doe.utils import get_formula_from_string, ProblemContext"
   ]
  },
  {
   "cell_type": "code",
   "execution_count": 6,
   "metadata": {},
   "outputs": [],
   "source": [
    "def logD_slogdet(F):\n",
    "    return np.linalg.slogdet(F)[1]\n",
    "\n",
    "def logD_eigvals(F):\n",
    "    lamb = np.linalg.eigvals(F)\n",
    "    return np.sum(np.log(lamb[lamb > 1e-13]))\n",
    "\n",
    "def logD_eigvalsh(F):\n",
    "    lamb = np.linalg.eigvalsh(F)\n",
    "    return np.sum(np.log(lamb[lamb > 1e-13]))"
   ]
  },
  {
   "cell_type": "markdown",
   "metadata": {},
   "source": [
    "#### Example: Linear model without constraints"
   ]
  },
  {
   "cell_type": "code",
   "execution_count": 7,
   "metadata": {},
   "outputs": [
    {
     "name": "stdout",
     "output_type": "stream",
     "text": [
      "logD_slogdet: -5.1643737517552335\n",
      "logD_eigvals: -5.1643737517552335\n"
     ]
    }
   ],
   "source": [
    "d = 3\n",
    "problem_context = ProblemContext( opti.Problem(\n",
    "    inputs=[opti.Continuous(f\"x{i+1}\", [0, 1]) for i in range(d)],\n",
    "    outputs=[opti.Continuous(\"y\")],\n",
    "))\n",
    "X = problem_context.problem.sample_inputs(4)\n",
    "formula = problem_context.get_formula_from_string(model_type=\"linear\")\n",
    "A = formula.get_model_matrix(X).to_numpy()\n",
    "F = A.T @ A\n",
    "\n",
    "print(\"logD_slogdet:\", logD_slogdet(F))\n",
    "print(\"logD_eigvals:\", logD_eigvals(F))"
   ]
  },
  {
   "cell_type": "markdown",
   "metadata": {},
   "source": [
    "#### Example: Linear model with equality constraint"
   ]
  },
  {
   "cell_type": "code",
   "execution_count": 8,
   "metadata": {},
   "outputs": [
    {
     "name": "stdout",
     "output_type": "stream",
     "text": [
      "logD_slogdet: -38.28142715427153\n",
      "logD_eigvals: -1.0957554832609429\n"
     ]
    }
   ],
   "source": [
    "d = 3\n",
    "problem = opti.Problem(\n",
    "    inputs=[opti.Continuous(f\"x{i+1}\", [0, 1]) for i in range(d)],\n",
    "    outputs=[opti.Continuous(\"y\")],\n",
    "    constraints=[opti.LinearEquality(names=[f\"x{i+1}\" for i in range(d)], rhs=1)],\n",
    ")\n",
    "problem_context = ProblemContext(problem)\n",
    "X = problem_context.problem.sample_inputs(4)\n",
    "formula = problem_context.get_formula_from_string(model_type=\"linear\")\n",
    "A = formula.get_model_matrix(X).to_numpy()\n",
    "F = A.T @ A\n",
    "\n",
    "print(\"logD_slogdet:\", logD_slogdet(F))\n",
    "print(\"logD_eigvals:\", logD_eigvals(F))"
   ]
  },
  {
   "cell_type": "markdown",
   "metadata": {},
   "source": [
    "With regularized matrix"
   ]
  },
  {
   "cell_type": "code",
   "execution_count": 9,
   "metadata": {},
   "outputs": [
    {
     "name": "stdout",
     "output_type": "stream",
     "text": [
      "logD_slogdet: -12.608588321000264\n",
      "logD_eigvals: -1.0957554832609429\n"
     ]
    }
   ],
   "source": [
    "print(\"logD_slogdet:\", logD_slogdet(F + 1e-5 * np.eye(len(F))))\n",
    "print(\"logD_eigvals:\", logD_eigvals(F))"
   ]
  },
  {
   "cell_type": "markdown",
   "metadata": {},
   "source": [
    "With problem reduction"
   ]
  },
  {
   "cell_type": "code",
   "execution_count": 10,
   "metadata": {},
   "outputs": [
    {
     "ename": "NameError",
     "evalue": "name 'problem' is not defined",
     "output_type": "error",
     "traceback": [
      "\u001b[1;31m---------------------------------------------------------------------------\u001b[0m",
      "\u001b[1;31mNameError\u001b[0m                                 Traceback (most recent call last)",
      "\u001b[1;32mc:\\Users\\LinzneDD\\git\\doe\\examples\\design.ipynb Cell 11\u001b[0m in \u001b[0;36m<cell line: 1>\u001b[1;34m()\u001b[0m\n\u001b[1;32m----> <a href='vscode-notebook-cell:/c%3A/Users/LinzneDD/git/doe/examples/design.ipynb#ch0000010?line=0'>1</a>\u001b[0m reduced_problem, trafo \u001b[39m=\u001b[39m opti\u001b[39m.\u001b[39mtools\u001b[39m.\u001b[39mreduce_problem(problem)\n\u001b[0;32m      <a href='vscode-notebook-cell:/c%3A/Users/LinzneDD/git/doe/examples/design.ipynb#ch0000010?line=1'>2</a>\u001b[0m problem_wrapper \u001b[39m=\u001b[39m ProblemWrapper(problem \u001b[39m=\u001b[39m opti\u001b[39m.\u001b[39mProblem(\n\u001b[0;32m      <a href='vscode-notebook-cell:/c%3A/Users/LinzneDD/git/doe/examples/design.ipynb#ch0000010?line=2'>3</a>\u001b[0m     inputs\u001b[39m=\u001b[39m[opti\u001b[39m.\u001b[39mContinuous(\u001b[39mf\u001b[39m\u001b[39m\"\u001b[39m\u001b[39mx\u001b[39m\u001b[39m{\u001b[39;00mi\u001b[39m+\u001b[39m\u001b[39m1\u001b[39m\u001b[39m}\u001b[39;00m\u001b[39m\"\u001b[39m, [\u001b[39m0\u001b[39m, \u001b[39m1\u001b[39m]) \u001b[39mfor\u001b[39;00m i \u001b[39min\u001b[39;00m \u001b[39mrange\u001b[39m(d)],\n\u001b[0;32m      <a href='vscode-notebook-cell:/c%3A/Users/LinzneDD/git/doe/examples/design.ipynb#ch0000010?line=3'>4</a>\u001b[0m     outputs\u001b[39m=\u001b[39m[opti\u001b[39m.\u001b[39mContinuous(\u001b[39m\"\u001b[39m\u001b[39my\u001b[39m\u001b[39m\"\u001b[39m)],\n\u001b[0;32m      <a href='vscode-notebook-cell:/c%3A/Users/LinzneDD/git/doe/examples/design.ipynb#ch0000010?line=4'>5</a>\u001b[0m     constraints\u001b[39m=\u001b[39m[opti\u001b[39m.\u001b[39mLinearEquality(names\u001b[39m=\u001b[39m[\u001b[39mf\u001b[39m\u001b[39m\"\u001b[39m\u001b[39mx\u001b[39m\u001b[39m{\u001b[39;00mi\u001b[39m+\u001b[39m\u001b[39m1\u001b[39m\u001b[39m}\u001b[39;00m\u001b[39m\"\u001b[39m \u001b[39mfor\u001b[39;00m i \u001b[39min\u001b[39;00m \u001b[39mrange\u001b[39m(d)], rhs\u001b[39m=\u001b[39m\u001b[39m1\u001b[39m)],\n\u001b[0;32m      <a href='vscode-notebook-cell:/c%3A/Users/LinzneDD/git/doe/examples/design.ipynb#ch0000010?line=5'>6</a>\u001b[0m ))\n\u001b[0;32m      <a href='vscode-notebook-cell:/c%3A/Users/LinzneDD/git/doe/examples/design.ipynb#ch0000010?line=6'>7</a>\u001b[0m problem_wrapper_reduced_problem \u001b[39m=\u001b[39m ProblemWrapper(reduced_problem)\n",
      "\u001b[1;31mNameError\u001b[0m: name 'problem' is not defined"
     ]
    }
   ],
   "source": [
    "reduced_problem, trafo = opti.tools.reduce_problem(problem)\n",
    "problem_context = ProblemContext(problem = opti.Problem(\n",
    "    inputs=[opti.Continuous(f\"x{i+1}\", [0, 1]) for i in range(d)],\n",
    "    outputs=[opti.Continuous(\"y\")],\n",
    "    constraints=[opti.LinearEquality(names=[f\"x{i+1}\" for i in range(d)], rhs=1)],\n",
    "))\n",
    "problem_context_reduced_problem = ProblemContext(reduced_problem)\n",
    "\n",
    "X = problem_context_reduced_problem.problem.sample_inputs(4)\n",
    "formula = problem_context_reduced_problem.get_formula_from_string(model_type=\"linear\")\n",
    "A = formula.get_model_matrix(X).to_numpy()\n",
    "F = A.T @ A\n",
    "\n",
    "print(\"logD_slogdet:\", logD_slogdet(F))\n",
    "print(\"logD_eigvals:\", logD_eigvals(F))"
   ]
  },
  {
   "cell_type": "markdown",
   "metadata": {},
   "source": [
    "### Timing"
   ]
  },
  {
   "cell_type": "code",
   "execution_count": 73,
   "metadata": {},
   "outputs": [
    {
     "data": {
      "image/png": "[encoded data removed]",
      "text/plain": [
       "<Figure size 432x288 with 1 Axes>"
      ]
     },
     "metadata": {
      "needs_background": "light"
     },
     "output_type": "display_data"
    }
   ],
   "source": [
    "D = np.arange(3, 26)\n",
    "T1 = np.zeros(len(D))\n",
    "T2 = np.zeros(len(D))\n",
    "T3 = np.zeros(len(D))\n",
    "\n",
    "for i, d in enumerate(D):\n",
    "    problem_context = ProblemContext(opti.Problem(\n",
    "        inputs=[opti.Continuous(f\"x{i+1}\", [0, 1]) for i in range(d)],\n",
    "        outputs=[opti.Continuous(\"y\")],\n",
    "    ))\n",
    "\n",
    "    formula =  problem_context.get_formula_from_string(model_type=\"fully-quadratic\")\n",
    "\n",
    "    n = d**2 + 1\n",
    "\n",
    "    X = problem_context.problem.sample_inputs(2 * n)\n",
    "    A = formula.get_model_matrix(X).to_numpy()\n",
    "    F = A.T @ A\n",
    "\n",
    "    T1[i] = timeit(\"logD_eigvals(F)\", number=20, globals=globals())\n",
    "    T2[i] = timeit(\"logD_eigvalsh(F)\", number=20, globals=globals())\n",
    "    T3[i] = timeit(\"logD_slogdet(F)\", number=20, globals=globals())\n",
    "\n",
    "fig, ax = plt.subplots()\n",
    "ax.plot(D, T1 * 1000, label=\"eigvals\")\n",
    "ax.plot(D, T2 * 1000, label=\"eigvalsh\")\n",
    "ax.plot(D, T3 * 1000, label=\"slogdet\")\n",
    "ax.set(xlabel=\"Number of inputs\", ylabel=\"Time [ms]\", title=\"D-criterion of a fully quadratic model\")\n",
    "ax.grid()\n",
    "ax.semilogy()\n",
    "ax.legend()\n",
    "fig.savefig(\"time-det.png\")"
   ]
  }
 ],
 "metadata": {
  "kernelspec": {
   "display_name": "Python 3.10.4 ('doe_dev')",
   "language": "python",
   "name": "python3"
  },
  "language_info": {
   "codemirror_mode": {
    "name": "ipython",
    "version": 3
   },
   "file_extension": ".py",
   "mimetype": "text/x-python",
   "name": "python",
   "nbconvert_exporter": "python",
   "pygments_lexer": "ipython3",
   "version": "3.10.4"
  },
  "orig_nbformat": 4,
  "vscode": {
   "interpreter": {
    "hash": "6ee276d36858c460ed554461c9578333e3624a13435c0f37e714afd83c9618dc"
   }
  }
 },
 "nbformat": 4,
 "nbformat_minor": 2
}
