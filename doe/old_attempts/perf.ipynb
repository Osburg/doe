{
 "cells": [
  {
   "cell_type": "code",
   "execution_count": 6,
   "metadata": {},
   "outputs": [],
   "source": [
    "import matplotlib.pyplot as plt\n",
    "import pandas as pd\n",
    "import numpy as np\n",
    "from doe.design import n_ignore_eigvals, get_formula_from_string, logD\n",
    "import opti"
   ]
  },
  {
   "cell_type": "code",
   "execution_count": 7,
   "metadata": {},
   "outputs": [],
   "source": [
    "D1 = []\n",
    "T1 = []\n",
    "\n",
    "for ndim in [2,3,4,5,6,7,8,9,10,11,12]:\n",
    "    problem = opti.Problem(\n",
    "        inputs = opti.Parameters([opti.Continuous(f\"x{i+1}\", [0, 1]) for i in range(ndim)]),\n",
    "        outputs = [opti.Continuous(\"y\")],\n",
    "        constraints = [\n",
    "            opti.LinearEquality(names=[f\"x{i+1}\" for i in range(ndim)], rhs=1),\n",
    "        ]\n",
    "    )\n",
    "\n",
    "    model = get_formula_from_string(problem, \"fully-quadratic\") \n",
    "\n",
    "    #append logD\n",
    "    A = np.round(pd.read_csv(f\"results/mcmcdoe_{ndim}.csv\", index_col=[\"index\"]),2)\n",
    "    A = model.get_model_matrix(A).to_numpy()\n",
    "    D1.append(logD(A, n_ignore_eigvals=n_ignore_eigvals(problem, model)))\n",
    "\n",
    "    #append T\n",
    "    t = pd.read_csv(f\"results/t_{ndim}.csv\", index_col=[\"index\"]).to_numpy()\n",
    "    T1.append(t[0][0])\n",
    "\n"
   ]
  },
  {
   "cell_type": "code",
   "execution_count": 8,
   "metadata": {},
   "outputs": [
    {
     "data": {
      "text/plain": [
       "[3.1135153092103787,\n",
       " 0.7951818592481854,\n",
       " -4.041100047703287,\n",
       " -11.735624942949375,\n",
       " -22.03500003572733,\n",
       " -34.96347011694657,\n",
       " -50.53911955905958,\n",
       " -69.06364973117212,\n",
       " -89.97288785829873,\n",
       " -113.27597697863739,\n",
       " -139.8435744095538]"
      ]
     },
     "execution_count": 8,
     "metadata": {},
     "output_type": "execute_result"
    }
   ],
   "source": [
    "D1"
   ]
  },
  {
   "cell_type": "code",
   "execution_count": 9,
   "metadata": {},
   "outputs": [
    {
     "data": {
      "text/plain": [
       "[3.347560405731201,\n",
       " 12.347336530685425,\n",
       " 42.48774576187134,\n",
       " 92.95423793792725,\n",
       " 306.4494383335113,\n",
       " 483.6493926048279,\n",
       " 565.7961688041687,\n",
       " 1193.8207507133484,\n",
       " 1791.040209054947,\n",
       " 3560.662739276886,\n",
       " 10151.406061410904]"
      ]
     },
     "execution_count": 9,
     "metadata": {},
     "output_type": "execute_result"
    }
   ],
   "source": [
    "T1"
   ]
  },
  {
   "cell_type": "code",
   "execution_count": 25,
   "metadata": {},
   "outputs": [],
   "source": [
    "D2 = []\n",
    "T2 = []\n",
    "\n",
    "for ndim in [2,3,4,5,6,7,8,9,10,11,12,13,14]:\n",
    "    problem = opti.Problem(\n",
    "        inputs = opti.Parameters([opti.Continuous(f\"x{i+1}\", [0, 1]) for i in range(ndim)]),\n",
    "        outputs = [opti.Continuous(\"y\")],\n",
    "        constraints = [\n",
    "            opti.LinearEquality(names=[f\"x{i+1}\" for i in range(ndim)], rhs=1),\n",
    "        ]\n",
    "    )\n",
    "\n",
    "    model = get_formula_from_string(problem, \"fully-quadratic\")\n",
    "\n",
    "    #append logD\n",
    "    A = np.round(pd.read_csv(f\"results_flexible_doe/mcmcdoe_{ndim}.csv\", index_col=[\"index\"]),2)\n",
    "    A = model.get_model_matrix(A).to_numpy()\n",
    "    D2.append(logD(A, n_ignore_eigvals=n_ignore_eigvals(problem, model)))\n",
    "\n",
    "    #append T\n",
    "    t = pd.read_csv(f\"results_flexible_doe/t_{ndim}.csv\", index_col=[\"index\"]).to_numpy()\n",
    "    T2.append(t[0][0])"
   ]
  },
  {
   "cell_type": "code",
   "execution_count": 26,
   "metadata": {},
   "outputs": [
    {
     "data": {
      "text/plain": [
       "[540.9986071586609,\n",
       " 515.8510239124298,\n",
       " 546.4610228538513,\n",
       " 650.4227087497711,\n",
       " 735.0877320766449,\n",
       " 874.377599477768,\n",
       " 863.5155534744263,\n",
       " 1026.0147330760956,\n",
       " 1353.006196975708,\n",
       " 2083.0913157463074,\n",
       " 2694.977400779724,\n",
       " 2836.8142173290253,\n",
       " 3008.2413218021397]"
      ]
     },
     "execution_count": 26,
     "metadata": {},
     "output_type": "execute_result"
    }
   ],
   "source": [
    "T2"
   ]
  },
  {
   "cell_type": "code",
   "execution_count": 27,
   "metadata": {},
   "outputs": [
    {
     "data": {
      "text/plain": [
       "[2.6432708360648736,\n",
       " 0.2535177286134416,\n",
       " -5.007406562400235,\n",
       " -13.434961518795731,\n",
       " -24.22809030895653,\n",
       " -38.408652253015724,\n",
       " -55.807380564569904,\n",
       " -79.05433368355618,\n",
       " -102.5352921150365,\n",
       " -136.4903381087517,\n",
       " -173.69955305510746,\n",
       " -219.10951995793377,\n",
       " -274.26552502349915]"
      ]
     },
     "execution_count": 27,
     "metadata": {},
     "output_type": "execute_result"
    }
   ],
   "source": [
    "D2"
   ]
  },
  {
   "cell_type": "code",
   "execution_count": 41,
   "metadata": {},
   "outputs": [
    {
     "data": {
      "image/png": "[encoded data removed]",
      "text/plain": [
       "<Figure size 432x288 with 2 Axes>"
      ]
     },
     "metadata": {
      "needs_background": "light"
     },
     "output_type": "display_data"
    }
   ],
   "source": [
    "import numpy as np\n",
    "import matplotlib.pyplot as plt\n",
    "\n",
    "\n",
    "fig, axs = plt.subplots(2, 1)\n",
    "axs[0].plot(np.arange(2, 13), D1, label=\"optimal_design\")\n",
    "axs[0].plot(np.arange(2, 15), D2, label=\"mcmcdoe\")\n",
    "axs[0].set_ylabel('log(det(I))')\n",
    "axs[0].grid(True)\n",
    "axs[0].legend()\n",
    "\n",
    "axs[1].plot(np.arange(2, 13),T1)\n",
    "axs[1].plot(np.arange(2, 15),T2)\n",
    "axs[1].set_ylabel('computation time')\n",
    "axs[1].set_xlabel(\"n_inputs\")\n",
    "axs[1].grid(True)\n",
    "\n",
    "fig.tight_layout()\n",
    "plt.savefig(\"doe_computation_time.png\")\n"
   ]
  },
  {
   "cell_type": "code",
   "execution_count": 39,
   "metadata": {},
   "outputs": [
    {
     "name": "stdout",
     "output_type": "stream",
     "text": [
      "234\n"
     ]
    },
    {
     "data": {
      "image/png": "[encoded data removed]",
      "text/plain": [
       "<Figure size 432x288 with 1 Axes>"
      ]
     },
     "metadata": {
      "needs_background": "light"
     },
     "output_type": "display_data"
    }
   ],
   "source": [
    "import numpy as np\n",
    "from scipy.sparse.linalg import eigsh\n",
    "import time\n",
    "np.random.seed(1)\n",
    "ndim = 20\n",
    "N = int(2*ndim + 4 + ndim * (ndim-1)/2)\n",
    "print(N)\n",
    "\n",
    "N = np.linspace(1,1000, dtype=int)\n",
    "t_eigvals = []\n",
    "t_eigvalsh = []\n",
    "\n",
    "for n in N:\n",
    "    X = np.random.rand(n,n)\n",
    "    t = time.time()\n",
    "    np.sort(np.linalg.eigvals(X.T@X))\n",
    "    t_eigvals.append(time.time()-t)\n",
    "\n",
    "    t = time.time()\n",
    "    np.linalg.eigvalsh(X.T@X)\n",
    "    t_eigvalsh.append(time.time()-t)\n",
    "\n",
    "plt.figure()\n",
    "plt.plot(N, t_eigvals, label = \"sort(eigvals(I))\")\n",
    "plt.plot(N, t_eigvalsh, label = \"eigvalsh(I)\")\n",
    "plt.xlabel(\"n_dim\")\n",
    "plt.ylabel(\"computation time\")\n",
    "plt.legend()\n",
    "plt.savefig(\"eigvals_computation.png\", dpi=150)\n"
   ]
  },
  {
   "cell_type": "code",
   "execution_count": 53,
   "metadata": {},
   "outputs": [
    {
     "ename": "ValueError",
     "evalue": "Must pass 2-d input. shape=(2, 2, 3)",
     "output_type": "error",
     "traceback": [
      "\u001b[1;31m---------------------------------------------------------------------------\u001b[0m",
      "\u001b[1;31mValueError\u001b[0m                                Traceback (most recent call last)",
      "\u001b[1;32m<ipython-input-53-cfaa06727ce2>\u001b[0m in \u001b[0;36m<module>\u001b[1;34m\u001b[0m\n\u001b[0;32m      1\u001b[0m \u001b[1;32mimport\u001b[0m \u001b[0mpandas\u001b[0m \u001b[1;32mas\u001b[0m \u001b[0mpd\u001b[0m\u001b[1;33m\u001b[0m\u001b[1;33m\u001b[0m\u001b[0m\n\u001b[0;32m      2\u001b[0m \u001b[0mx\u001b[0m \u001b[1;33m=\u001b[0m \u001b[0mnp\u001b[0m\u001b[1;33m.\u001b[0m\u001b[0marray\u001b[0m\u001b[1;33m(\u001b[0m\u001b[1;33m[\u001b[0m\u001b[1;33m[\u001b[0m\u001b[1;33m[\u001b[0m\u001b[1;36m1\u001b[0m\u001b[1;33m,\u001b[0m\u001b[1;36m2\u001b[0m\u001b[1;33m,\u001b[0m\u001b[1;36m3\u001b[0m\u001b[1;33m]\u001b[0m\u001b[1;33m,\u001b[0m\u001b[1;33m[\u001b[0m\u001b[1;36m4\u001b[0m\u001b[1;33m,\u001b[0m\u001b[1;36m5\u001b[0m\u001b[1;33m,\u001b[0m\u001b[1;36m6\u001b[0m\u001b[1;33m]\u001b[0m\u001b[1;33m]\u001b[0m\u001b[1;33m,\u001b[0m \u001b[1;33m[\u001b[0m\u001b[1;33m[\u001b[0m\u001b[1;36m7\u001b[0m\u001b[1;33m,\u001b[0m\u001b[1;36m8\u001b[0m\u001b[1;33m,\u001b[0m\u001b[1;36m9\u001b[0m\u001b[1;33m]\u001b[0m\u001b[1;33m,\u001b[0m \u001b[1;33m[\u001b[0m\u001b[1;36m10\u001b[0m\u001b[1;33m,\u001b[0m \u001b[1;36m11\u001b[0m\u001b[1;33m,\u001b[0m \u001b[1;36m12\u001b[0m\u001b[1;33m]\u001b[0m\u001b[1;33m]\u001b[0m\u001b[1;33m]\u001b[0m\u001b[1;33m)\u001b[0m\u001b[1;33m\u001b[0m\u001b[1;33m\u001b[0m\u001b[0m\n\u001b[1;32m----> 3\u001b[1;33m \u001b[0mpd\u001b[0m\u001b[1;33m.\u001b[0m\u001b[0mDataFrame\u001b[0m\u001b[1;33m(\u001b[0m\u001b[0mx\u001b[0m\u001b[1;33m,\u001b[0m \u001b[0mcolumns\u001b[0m\u001b[1;33m=\u001b[0m\u001b[1;33m[\u001b[0m\u001b[1;34m\"x1\"\u001b[0m\u001b[1;33m,\u001b[0m\u001b[1;34m\"x2\"\u001b[0m\u001b[1;33m,\u001b[0m\u001b[1;34m\"x3\"\u001b[0m\u001b[1;33m]\u001b[0m\u001b[1;33m)\u001b[0m\u001b[1;33m\u001b[0m\u001b[1;33m\u001b[0m\u001b[0m\n\u001b[0m",
      "\u001b[1;32mC:\\Program Files\\Python38\\lib\\site-packages\\pandas\\core\\frame.py\u001b[0m in \u001b[0;36m__init__\u001b[1;34m(self, data, index, columns, dtype, copy)\u001b[0m\n\u001b[0;32m    692\u001b[0m                 )\n\u001b[0;32m    693\u001b[0m             \u001b[1;32melse\u001b[0m\u001b[1;33m:\u001b[0m\u001b[1;33m\u001b[0m\u001b[1;33m\u001b[0m\u001b[0m\n\u001b[1;32m--> 694\u001b[1;33m                 mgr = ndarray_to_mgr(\n\u001b[0m\u001b[0;32m    695\u001b[0m                     \u001b[0mdata\u001b[0m\u001b[1;33m,\u001b[0m\u001b[1;33m\u001b[0m\u001b[1;33m\u001b[0m\u001b[0m\n\u001b[0;32m    696\u001b[0m                     \u001b[0mindex\u001b[0m\u001b[1;33m,\u001b[0m\u001b[1;33m\u001b[0m\u001b[1;33m\u001b[0m\u001b[0m\n",
      "\u001b[1;32mC:\\Program Files\\Python38\\lib\\site-packages\\pandas\\core\\internals\\construction.py\u001b[0m in \u001b[0;36mndarray_to_mgr\u001b[1;34m(values, index, columns, dtype, copy, typ)\u001b[0m\n\u001b[0;32m    329\u001b[0m         \u001b[1;31m# by definition an array here\u001b[0m\u001b[1;33m\u001b[0m\u001b[1;33m\u001b[0m\u001b[1;33m\u001b[0m\u001b[0m\n\u001b[0;32m    330\u001b[0m         \u001b[1;31m# the dtypes will be coerced to a single dtype\u001b[0m\u001b[1;33m\u001b[0m\u001b[1;33m\u001b[0m\u001b[1;33m\u001b[0m\u001b[0m\n\u001b[1;32m--> 331\u001b[1;33m         \u001b[0mvalues\u001b[0m \u001b[1;33m=\u001b[0m \u001b[0m_prep_ndarray\u001b[0m\u001b[1;33m(\u001b[0m\u001b[0mvalues\u001b[0m\u001b[1;33m,\u001b[0m \u001b[0mcopy\u001b[0m\u001b[1;33m=\u001b[0m\u001b[0mcopy_on_sanitize\u001b[0m\u001b[1;33m)\u001b[0m\u001b[1;33m\u001b[0m\u001b[1;33m\u001b[0m\u001b[0m\n\u001b[0m\u001b[0;32m    332\u001b[0m \u001b[1;33m\u001b[0m\u001b[0m\n\u001b[0;32m    333\u001b[0m     \u001b[1;32mif\u001b[0m \u001b[0mdtype\u001b[0m \u001b[1;32mis\u001b[0m \u001b[1;32mnot\u001b[0m \u001b[1;32mNone\u001b[0m \u001b[1;32mand\u001b[0m \u001b[1;32mnot\u001b[0m \u001b[0mis_dtype_equal\u001b[0m\u001b[1;33m(\u001b[0m\u001b[0mvalues\u001b[0m\u001b[1;33m.\u001b[0m\u001b[0mdtype\u001b[0m\u001b[1;33m,\u001b[0m \u001b[0mdtype\u001b[0m\u001b[1;33m)\u001b[0m\u001b[1;33m:\u001b[0m\u001b[1;33m\u001b[0m\u001b[1;33m\u001b[0m\u001b[0m\n",
      "\u001b[1;32mC:\\Program Files\\Python38\\lib\\site-packages\\pandas\\core\\internals\\construction.py\u001b[0m in \u001b[0;36m_prep_ndarray\u001b[1;34m(values, copy)\u001b[0m\n\u001b[0;32m    589\u001b[0m         \u001b[0mvalues\u001b[0m \u001b[1;33m=\u001b[0m \u001b[0mvalues\u001b[0m\u001b[1;33m.\u001b[0m\u001b[0mreshape\u001b[0m\u001b[1;33m(\u001b[0m\u001b[1;33m(\u001b[0m\u001b[0mvalues\u001b[0m\u001b[1;33m.\u001b[0m\u001b[0mshape\u001b[0m\u001b[1;33m[\u001b[0m\u001b[1;36m0\u001b[0m\u001b[1;33m]\u001b[0m\u001b[1;33m,\u001b[0m \u001b[1;36m1\u001b[0m\u001b[1;33m)\u001b[0m\u001b[1;33m)\u001b[0m\u001b[1;33m\u001b[0m\u001b[1;33m\u001b[0m\u001b[0m\n\u001b[0;32m    590\u001b[0m     \u001b[1;32melif\u001b[0m \u001b[0mvalues\u001b[0m\u001b[1;33m.\u001b[0m\u001b[0mndim\u001b[0m \u001b[1;33m!=\u001b[0m \u001b[1;36m2\u001b[0m\u001b[1;33m:\u001b[0m\u001b[1;33m\u001b[0m\u001b[1;33m\u001b[0m\u001b[0m\n\u001b[1;32m--> 591\u001b[1;33m         \u001b[1;32mraise\u001b[0m \u001b[0mValueError\u001b[0m\u001b[1;33m(\u001b[0m\u001b[1;34mf\"Must pass 2-d input. shape={values.shape}\"\u001b[0m\u001b[1;33m)\u001b[0m\u001b[1;33m\u001b[0m\u001b[1;33m\u001b[0m\u001b[0m\n\u001b[0m\u001b[0;32m    592\u001b[0m \u001b[1;33m\u001b[0m\u001b[0m\n\u001b[0;32m    593\u001b[0m     \u001b[1;32mreturn\u001b[0m \u001b[0mvalues\u001b[0m\u001b[1;33m\u001b[0m\u001b[1;33m\u001b[0m\u001b[0m\n",
      "\u001b[1;31mValueError\u001b[0m: Must pass 2-d input. shape=(2, 2, 3)"
     ]
    }
   ],
   "source": [
    "import pandas as pd\n",
    "x = np.array([[[1,2,3],[4,5,6]], [[7,8,9], [10, 11, 12]]])\n",
    "pd.DataFrame(x, columns=[\"x1\",\"x2\",\"x3\"])"
   ]
  },
  {
   "cell_type": "code",
   "execution_count": 9,
   "metadata": {},
   "outputs": [
    {
     "name": "stdout",
     "output_type": "stream",
     "text": [
      "[[[ 1.  1.  1.  2.  4.  2.]\n",
      "  [ 1.  3.  9.  4. 16. 12.]\n",
      "  [ 1.  5. 25.  6. 36. 30.]]\n",
      "\n",
      " [[ 1.  1.  1.  2.  4.  2.]\n",
      "  [ 1.  3.  9.  4. 16. 12.]\n",
      "  [ 1.  5. 25.  6. 36. 30.]]]\n"
     ]
    },
    {
     "data": {
      "text/plain": [
       "array([[  9.999,  43.999, 101.999],\n",
       "       [  9.999,  43.999, 101.999]])"
      ]
     },
     "execution_count": 9,
     "metadata": {},
     "output_type": "execute_result"
    }
   ],
   "source": [
    "import opti\n",
    "from doe.design import get_formula_from_string\n",
    "import numpy as np\n",
    "import pandas as pd\n",
    "\n",
    "problem = opti.Problem(\n",
    "    inputs = opti.Parameters([opti.Continuous(f\"x{i+1}\", [0, 1]) for i in range(2)]),\n",
    "    outputs = [opti.Continuous(\"y\")],\n",
    "    constraints = [opti.LinearEquality(names=[f\"x{i+1}\" for i in range(2)], rhs=1)] \n",
    ")\n",
    "model = get_formula_from_string(problem, \"fully-quadratic\", rhs_only=True)\n",
    "\n",
    "from doe.design import get_formula_from_string\n",
    "x = np.array([[[1,2],[3,4],[5,6]],[[1,2],[3,4],[5,6]]])\n",
    "x = x.reshape(2*3, 2)\n",
    "\n",
    "x = model.get_model_matrix(pd.DataFrame(x, columns=problem.inputs.names)).to_numpy()\n",
    "\n",
    "x = x.reshape(2,3,6)\n",
    "print(x)\n",
    "\n",
    "np.abs(np.sum(x, axis=2)) - 1e-3\n",
    "\n"
   ]
  },
  {
   "cell_type": "code",
   "execution_count": 2,
   "metadata": {},
   "outputs": [
    {
     "ename": "ModuleNotFoundError",
     "evalue": "No module named 'ipopt_wrapper'",
     "output_type": "error",
     "traceback": [
      "\u001b[1;31m---------------------------------------------------------------------------\u001b[0m",
      "\u001b[1;31mModuleNotFoundError\u001b[0m                       Traceback (most recent call last)",
      "\u001b[1;32m<ipython-input-2-b33e3528d8fa>\u001b[0m in \u001b[0;36m<module>\u001b[1;34m\u001b[0m\n\u001b[1;32m----> 1\u001b[1;33m \u001b[1;32mimport\u001b[0m \u001b[0mcyipopt\u001b[0m\u001b[1;33m\u001b[0m\u001b[1;33m\u001b[0m\u001b[0m\n\u001b[0m",
      "\u001b[1;32mC:\\Program Files\\Python38\\lib\\site-packages\\cyipopt\\__init__.py\u001b[0m in \u001b[0;36m<module>\u001b[1;34m\u001b[0m\n\u001b[0;32m     10\u001b[0m \"\"\"\n\u001b[0;32m     11\u001b[0m \u001b[1;33m\u001b[0m\u001b[0m\n\u001b[1;32m---> 12\u001b[1;33m \u001b[1;32mfrom\u001b[0m \u001b[0mipopt_wrapper\u001b[0m \u001b[1;32mimport\u001b[0m \u001b[1;33m*\u001b[0m\u001b[1;33m\u001b[0m\u001b[1;33m\u001b[0m\u001b[0m\n\u001b[0m\u001b[0;32m     13\u001b[0m \u001b[1;32mfrom\u001b[0m \u001b[1;33m.\u001b[0m\u001b[0mipopt_wrapper\u001b[0m \u001b[1;32mimport\u001b[0m \u001b[1;33m*\u001b[0m\u001b[1;33m\u001b[0m\u001b[1;33m\u001b[0m\u001b[0m\n\u001b[0;32m     14\u001b[0m \u001b[1;32mfrom\u001b[0m \u001b[1;33m.\u001b[0m\u001b[0mscipy_interface\u001b[0m \u001b[1;32mimport\u001b[0m \u001b[1;33m*\u001b[0m\u001b[1;33m\u001b[0m\u001b[1;33m\u001b[0m\u001b[0m\n",
      "\u001b[1;31mModuleNotFoundError\u001b[0m: No module named 'ipopt_wrapper'"
     ]
    }
   ],
   "source": [
    "import cyipopt"
   ]
  },
  {
   "cell_type": "code",
   "execution_count": null,
   "metadata": {},
   "outputs": [],
   "source": []
  }
 ],
 "metadata": {
  "interpreter": {
   "hash": "1baa965d5efe3ac65b79dfc60c0d706280b1da80fedb7760faf2759126c4f253"
  },
  "kernelspec": {
   "display_name": "Python 3.8.1 64-bit",
   "language": "python",
   "name": "python3"
  },
  "language_info": {
   "codemirror_mode": {
    "name": "ipython",
    "version": 3
   },
   "file_extension": ".py",
   "mimetype": "text/x-python",
   "name": "python",
   "nbconvert_exporter": "python",
   "pygments_lexer": "ipython3",
   "version": "3.8.1"
  },
  "orig_nbformat": 4
 },
 "nbformat": 4,
 "nbformat_minor": 2
}
